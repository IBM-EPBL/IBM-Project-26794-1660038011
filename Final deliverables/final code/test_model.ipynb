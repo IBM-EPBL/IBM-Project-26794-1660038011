{
  "cells": [
    {
      "cell_type": "code",
      "execution_count": 5,
      "metadata": {
        "id": "T0sk2Gh4f22g"
      },
      "outputs": [],
      "source": [
        "#Importing the Keras libraries and packages\n",
        "from tensorflow.keras.models import load_model\n",
        "from PIL import Image #used for manipulating image uploaded by the user.\n",
        "import numpy as np #used for numerrical analysis\n",
        "model = load_model('mnistCNN.h5')"
      ]
    },
    {
      "cell_type": "code",
      "execution_count": 6,
      "metadata": {
        "id": "kCR1CJPrgB91"
      },
      "outputs": [],
      "source": [
        "img = Image.open('/content/0.png').convert(\"L\") # convert image to monochrome\n",
        "img = img.resize( (28, 28) ) # resizing of input image\n",
        "im2arr = np.array(img) #converting to image\n",
        "im2arr = im2arr.reshape(1, 28, 28, 1) #reshaping according to our requirement"
      ]
    },
    {
      "cell_type": "code",
      "execution_count": 7,
      "metadata": {
        "colab": {
          "base_uri": "https://localhost:8080/"
        },
        "id": "SPUb6b9YgEks",
        "outputId": "b02fe1d7-8ddd-4a18-cb21-cc6dca72c6c3"
      },
      "outputs": [
        {
          "name": "stdout",
          "output_type": "stream",
          "text": [
            "1/1 [==============================] - 0s 326ms/step\n",
            "[[8.3097028e-12 9.0522445e-15 7.5430656e-14 9.2793534e-06 6.5089820e-14\n",
            "  9.9999070e-01 4.9984763e-11 3.5923375e-15 3.3992941e-12 1.1520049e-09]]\n"
          ]
        }
      ],
      "source": [
        "# Predicting the Test set results\n",
        "y_pred = model.predict(im2arr) #predicting the results\n",
        "print(y_pred)"
      ]
    },
    {
      "cell_type": "code",
      "execution_count": 8,
      "metadata": {
        "colab": {
          "base_uri": "https://localhost:8080/"
        },
        "id": "2EiBgjOpgH0z",
        "outputId": "585658bd-7e63-4eff-80c5-52816e124850"
      },
      "outputs": [
        {
          "name": "stdout",
          "output_type": "stream",
          "text": [
            "[5]\n"
          ]
        }
      ],
      "source": [
        "import numpy as np\n",
        "print(np.argmax(y_pred, axis=1)) #printing our Labels from first 4 images"
      ]
    }
  ],
  "metadata": {
    "colab": {
      "provenance": []
    },
    "kernelspec": {
      "display_name": "Python 3",
      "name": "python3"
    },
    "language_info": {
      "name": "python"
    }
  },
  "nbformat": 4,
  "nbformat_minor": 0
}
